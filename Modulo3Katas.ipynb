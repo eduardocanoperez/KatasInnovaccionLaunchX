{
 "cells": [
  {
   "cell_type": "markdown",
   "metadata": {},
   "source": [
    "# Ejercicio - Escribir declaraciones if, else, y elif\n",
    "Para este ejercicio, escribirás una lógica condicional que imprima una advertencia si un asteroide se acerca a la Tierra demasiado rápido. La velocidad del asteroide varía dependiendo de lo cerca que esté del sol, y cualquier velocidad superior a 25 kilómetros por segundo (km/s) merece una advertencia.\n",
    "\n",
    "Un asteroide se acerca, y viaja a una velocidad de 49 km/s.\n",
    "\n",
    "Si un asteroide entra en la atmósfera de la Tierra a una velocidad mayor o igual a 20 km/s, a veces produce un rayo de luz que se puede ver desde la Tierra. Escribe la lógica condicional que usa declaraciones if, else, y elif para alertar a las personas de todo el mundo que deben buscar un asteroide en el cielo. ¡Hay uno que se dirige a la tierra ahora a una velocidad de 19 km/s!"
   ]
  },
  {
   "cell_type": "code",
   "execution_count": 16,
   "metadata": {},
   "outputs": [
    {
     "name": "stdout",
     "output_type": "stream",
     "text": [
      "¡Un asteroide se acerca, y viaja a una velocidad de 49 km/s!\n"
     ]
    }
   ],
   "source": [
    "asteroide1 = 49\n",
    "\n",
    "if asteroide1 >= 25:\n",
    "    print('¡Un asteroide se acerca, y viaja a una velocidad de 49 km/s!')\n",
    "else:\n",
    "    print('amenasas no detectadas, puedes seguir con tu dia.')"
   ]
  },
  {
   "cell_type": "code",
   "execution_count": 15,
   "metadata": {},
   "outputs": [
    {
     "name": "stdout",
     "output_type": "stream",
     "text": [
      "viene un asteroide pero no lo puedes ver a simple vista\n"
     ]
    }
   ],
   "source": [
    "asteroide2 = 19\n",
    "\n",
    "if asteroide2 >= 20:\n",
    "    print('¡mira arriba y busca el destello del asteroide!')\n",
    "elif asteroide2 <= 19:\n",
    "    print('viene un asteroide pero no lo puedes ver a simple vista')\n",
    "else:\n",
    "    print('sigue con tu dia, ¡nada detectado!')"
   ]
  },
  {
   "cell_type": "markdown",
   "metadata": {},
   "source": [
    "# Ejercicio: Uso de operadores and y or\n",
    "En este ejercicio, aprenderás información más matizada sobre cuándo los asteroides representan un peligro para la Tierra, y utilizarás esa información para mejorar nuestro sistema de advertencia. Aquí está la nueva información que necesitas saber:\n",
    "\n",
    "*Los asteroides de menos de 25 metros en su dimensión más grande probablemente se quemarán a medida que entren en la atmósfera de la Tierra.\n",
    "\n",
    "Si una pieza de un asteroide que es más grande que 25 metros pero más pequeña que 1000 metros golpeara la Tierra, causaría mucho daño.\n",
    "También discutimos en el ejercicio anterior que:\n",
    "\n",
    "La velocidad del asteroide varía en función de lo cerca que esté del sol, y cualquier velocidad superior a 25 kilómetros por segundo (km/s) merece una advertencia.\n",
    "Si un asteroide entra en la atmósfera de la Tierra a una velocidad mayor o igual a 20 km/s, a veces produce un rayo de luz que se puede ver desde la Tierra.\n",
    "Usando toda esta información, escribe un programa que emita la advertencia o información correcta a la gente de la Tierra, según la velocidad y el tamaño de un asteroide. Utiliza instrucciones if, else, y elif, así como los operadores and y or."
   ]
  },
  {
   "cell_type": "code",
   "execution_count": 33,
   "metadata": {},
   "outputs": [
    {
     "name": "stdout",
     "output_type": "stream",
     "text": [
      "mira arriba y veras un asteroide en el cielo a simple vista, no es peligroso.\n"
     ]
    }
   ],
   "source": [
    "tamaño_del_asteroide = 26\n",
    "velocidad_del_asteroide = 20\n",
    "\n",
    "if tamaño_del_asteroide <= 25 or velocidad_del_asteroide <= 19:\n",
    "    print('se detecto un asteroide pero es muy pequeño para verlo a simple vista, no hay peligro.')\n",
    "elif tamaño_del_asteroide >= 25 or velocidad_del_asteroide >= 20:\n",
    "    if tamaño_del_asteroide >= 25 <= 1000 and velocidad_del_asteroide >= 25:\n",
    "        print('advertencia, un asteroide peligroso se hacerca a la tierra, resguardence')\n",
    "    elif tamaño_del_asteroide >= 20 <= 24 and velocidad_del_asteroide >= 20:\n",
    "        print('mira arriba y veras un asteroide en el cielo a simple vista, no es peligroso.')\n",
    "else:\n",
    "    print('sigue tu dia normal, nada detectado.')"
   ]
  }
 ],
 "metadata": {
  "interpreter": {
   "hash": "f9f85f796d01129d0dd105a088854619f454435301f6ffec2fea96ecbd9be4ac"
  },
  "kernelspec": {
   "display_name": "Python 3.9.9 64-bit",
   "language": "python",
   "name": "python3"
  },
  "language_info": {
   "codemirror_mode": {
    "name": "ipython",
    "version": 3
   },
   "file_extension": ".py",
   "mimetype": "text/x-python",
   "name": "python",
   "nbconvert_exporter": "python",
   "pygments_lexer": "ipython3",
   "version": "3.9.9"
  },
  "orig_nbformat": 4
 },
 "nbformat": 4,
 "nbformat_minor": 2
}
