{
 "cells": [
  {
   "cell_type": "markdown",
   "metadata": {},
   "source": [
    "# Ejercicio1 - Utilizar operadores aritméticos\n",
    "# Operadores aritméticos en Python\n",
    "Python proporciona operadores aritméticos comunes para que puedas realizar operaciones matemáticas en tu código. Estos incluyen las cuatro operaciones principales de suma, resta, multiplicación y división.\n",
    "\n",
    "Exploremos cómo podemos crear un programa que pueda calcular la distancia entre dos planetas. Comenzaremos usando dos distancias de planetas: Tierra (149.597.870 km) y Júpiter (778.547.200 km).\n",
    "\n",
    "Nota: Quita las comas cuando uses los valores."
   ]
  },
  {
   "cell_type": "code",
   "execution_count": 2,
   "metadata": {},
   "outputs": [],
   "source": [
    "distance_earth = 149597870\n",
    "distance_jupyter = 778547200\n"
   ]
  },
  {
   "cell_type": "markdown",
   "metadata": {},
   "source": [
    "# Realizar la operación\n",
    "Con los valores obtenidos, es el momento de añadir el código para realizar la operación. Restarás el primer planeta del segundo para determinar la distancia en kilómetros. A continuación, puedes convertir la distancia del kilómetro en millas multiplicándola por 0.621."
   ]
  },
  {
   "cell_type": "code",
   "execution_count": 22,
   "metadata": {},
   "outputs": [
    {
     "name": "stdout",
     "output_type": "stream",
     "text": [
      "628949330\n",
      "390577534\n"
     ]
    }
   ],
   "source": [
    "distance_kms = (distance_jupyter - distance_earth)\n",
    "distance_miles = (distance_jupyter - distance_earth) * 0.621\n",
    "print(distance_kms)\n",
    "print(round(distance_miles))"
   ]
  },
  {
   "cell_type": "markdown",
   "metadata": {},
   "source": [
    "# Ejercicio 2: convierte cadenas en números y usa valores absolutos\n",
    "# Crear una aplicación para trabajar con números y entrada de usuario\n",
    "Con frecuencia, deberás convertir los valores de cadena en números para realizar correctamente diferentes operaciones o determinar el valor absoluto de un número.\n",
    "\n",
    "Para crear nuestra aplicación, queremos leer la distancia del sol para dos planetas, y luego mostrar la distancia entre los planetas. Haremos esto usando input para leer los valores, int para convertir a entero y luego abs para convertir el resultado en su valor absoluto.\n",
    "\n",
    "Lee los valores\n",
    "Usando input, agrega el código para leer la distancia del sol para cada planeta, considerando 2 planetas.\n",
    "\n",
    "Convertir a número\n",
    "Debido a que input devuelve valores de cadena, necesitamos convertirlos en números. Para nuestro ejemplo, usaremos int"
   ]
  },
  {
   "cell_type": "code",
   "execution_count": 30,
   "metadata": {},
   "outputs": [
    {
     "name": "stdout",
     "output_type": "stream",
     "text": [
      "de Venus al sol hay una distancia media de 108200000 mls\n",
      "de Jupiter al sol hay una distancia media de 7786600000 mls\n",
      "la distancia entre Venus y Jupiter es una media de 4768286400.0 kms\n"
     ]
    }
   ],
   "source": [
    "\"\"\"\n",
    "Mercurio 57900000\n",
    "Venus\t 108200000\n",
    "Tierra\t 149600000\n",
    "Marte\t 227900000\n",
    "Júpiter\t 778600000\n",
    "Saturno\t 1433500000\n",
    "Urano\t 2872500000\n",
    "Neptuno\t 4495100000\n",
    "\"\"\"\n",
    "planet_name = input('ingresa el nombre de tu planeta')\n",
    "distance_sun_to_planet1 = int(input('ingresa la distancia de tu planeta al sol (en numeros)'))\n",
    "planet_name2 = input('ingresa el nombre de tu segundo planeta')\n",
    "distance_sun_to_planet2 = int(input('ingresa la distancia de tu planeta al sol (en numeros)'))\n",
    "distance_betwen_planets = abs(distance_sun_to_planet1 - distance_sun_to_planet2) * 0.621\n",
    "\n",
    "print(f'de {planet_name} al sol hay una distancia media de {distance_sun_to_planet1} mls')\n",
    "print(f'de {planet_name2} al sol hay una distancia media de {distance_sun_to_planet2} mls')\n",
    "print(f'la distancia entre {planet_name} y {planet_name2} es una media de {distance_betwen_planets} kms')"
   ]
  }
 ],
 "metadata": {
  "interpreter": {
   "hash": "f9f85f796d01129d0dd105a088854619f454435301f6ffec2fea96ecbd9be4ac"
  },
  "kernelspec": {
   "display_name": "Python 3.9.9 64-bit",
   "language": "python",
   "name": "python3"
  },
  "language_info": {
   "codemirror_mode": {
    "name": "ipython",
    "version": 3
   },
   "file_extension": ".py",
   "mimetype": "text/x-python",
   "name": "python",
   "nbconvert_exporter": "python",
   "pygments_lexer": "ipython3",
   "version": "3.9.9"
  },
  "orig_nbformat": 4
 },
 "nbformat": 4,
 "nbformat_minor": 2
}
