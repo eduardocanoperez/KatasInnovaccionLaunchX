{
 "cells": [
  {
   "cell_type": "markdown",
   "metadata": {},
   "source": [
    "# Ejercicio: Uso de funciones en Python\n",
    "\n",
    "Ejercicio 1: Trabajar con argumentos en funciones\n",
    "\n",
    "Los argumentos requeridos en las funciones se utilizan cuando las funciones necesitan que esos argumentos funcionen correctamente. En este ejercicio, construirás un informe de combustible que requiere información de varias ubicaciones de combustible en todo el cohete.\n",
    "\n",
    "TIP Dedica unos minutos para tratar de encontrar una solución. Luego desplázate hacia abajo hasta la parte inferior para ver si has logrado compilar el programa de acuerdo con las especificaciones\n",
    "\n",
    "Comienza por crear una función que necesite tres lecturas de combustible y devuelva un informe:\n",
    "\n",
    "\n",
    "Ahora que hemos definido la función de informes, vamos a comprobarlo. Para esta misión, los tanques no están llenos:\n",
    "\n",
    "En lugar de simplemente crear el informe, la función también está calculando el promedio. Mejora la legibilidad extrayendo el cálculo promedio de la función en una nueva función para que el promedio se pueda hacer de forma independiente:\n",
    "\n",
    "Ahora actualiza la función de informes para llamando a la nueva función del promedio:\n",
    "\n"
   ]
  },
  {
   "cell_type": "code",
   "execution_count": 20,
   "metadata": {},
   "outputs": [
    {
     "name": "stdout",
     "output_type": "stream",
     "text": [
      "el promedio de combustible es de 50.666666666666664\n",
      "el promedio de combustible es de 30.666666666666668\n"
     ]
    }
   ],
   "source": [
    "# Función para leer 3 tanques de combustible y muestre el promedio\n",
    "def fuel_lecture(tanq1, tanq2, tanq3):\n",
    "    average_fuel = (tanq1 + tanq2 + tanq3) / 3\n",
    "    print(f\"el promedio de combustible es de {average_fuel}\")\n",
    "\n",
    "# Llamamos a la función que genera el reporte print(funcion(tanque1, tanque2, tanque3))\n",
    "fuel_lecture(50, 89, 13)\n",
    "\n",
    "# Función promedio\n",
    "def average(value):\n",
    "    total = sum(value)\n",
    "    number_items = len(value)\n",
    "    return (total / number_items)\n",
    "    \n",
    "\n",
    "# Actualiza la función\n",
    "def fuel_lecture2(tanq1, tanq2, tanq3):\n",
    "    print(f\"el promedio de combustible es de {average([tanq1, tanq2, tanq3])}\") \n",
    "\n",
    "fuel_lecture2(12, 14, 66)"
   ]
  },
  {
   "cell_type": "markdown",
   "metadata": {},
   "source": [
    "# Ejercicio 2: Trabajo con argumentos de palabra clave \n",
    "\n",
    "Ejercicio : Trabajar con argumentos de palabras clave en funciones\n",
    "\n",
    "En este ejercicio, construirás un informe de cohete que requiere varias piezas de información, como el tiempo hasta el destino, el combustible a la izquierda y el nombre del destino. Comienza por crear una función que creará un informe preciso de la misión:\n",
    "\n",
    "La función es problemática porque no se puede adaptar para minutos adicionales o tanques adicionales de combustible. Hazlo más flexible permitiendo cualquier número de pasos basados en el tiempo y cualquier número de tanques. En lugar de usar *args y **kwargs, aprovecha el hecho de que puedes usar cualquier nombre que desees. Asegurate que la función sea más legible mediante el uso de nombres de variables que están asociados con las entradas, como *minutes y **fuel_reservoirs:\n",
    "\n",
    "Debido a que el combustible que queda en los tanques es específico de cada tanque, actualiza la función para usar el nombre de cada tanque en el informe:\n",
    "\n"
   ]
  },
  {
   "cell_type": "code",
   "execution_count": 27,
   "metadata": {},
   "outputs": [
    {
     "name": "stdout",
     "output_type": "stream",
     "text": [
      "\n",
      "     the prelaunch time is 14,\n",
      "     the fliing time is: 51, \n",
      "     the destini moon, \n",
      "     the external and internal fuel is 78, 90 lts\n",
      "     \n",
      " \n",
      "    la mision es para la: luna, \n",
      "    tiempo estimado de la mision 90 minutos, \n",
      "    combustibre restante de los cohetes 550000 lts\n",
      "    \n",
      " \n",
      "    la mision es para la: luna, \n",
      "    tiempo estimado de la mision 110 minutos, \n",
      "    combustibre restante de los cohetes 685000 lts\n",
      "    main tank --> 125000 gallons left\n",
      "external tank --> 560000 gallons left\n",
      "\n"
     ]
    }
   ],
   "source": [
    "# Función con un informe preciso de la misión. Considera hora de prelanzamiento, tiempo de vuelo, destino, tanque externo y tanque interno\n",
    "def mision_report(prelaunch_time, fliing_time, destini, extern_tanq, intern_tanq):\n",
    "     return f'''\n",
    "     the prelaunch time is {prelaunch_time},\n",
    "     the fliing time is: {fliing_time}, \n",
    "     the destini {destini}, \n",
    "     the external and internal fuel is {extern_tanq}, {intern_tanq} lts\n",
    "     '''\n",
    "\n",
    "print(mision_report(14, 51, 'moon', 78, 90))\n",
    "\n",
    "\n",
    "# Escribe tu nueva función de reporte considerando lo anterior\n",
    "def mision_report(destination, *minutes, **fuel_reservation):\n",
    "    return f''' \n",
    "    la mision es para la: {destination}, \n",
    "    tiempo estimado de la mision {sum(minutes)} minutos, \n",
    "    combustibre restante de los cohetes {sum(fuel_reservation.values())} lts\n",
    "    '''\n",
    "\n",
    "print(mision_report('luna', 23, 67, main = 300000, external = 250000))\n",
    "\n",
    "# Escribe tu nueva función\n",
    "def mision_report(destination, *minutes, **fuel_reservation):\n",
    "    main_report = f''' \n",
    "    la mision es para la: {destination}, \n",
    "    tiempo estimado de la mision {sum(minutes)} minutos, \n",
    "    combustibre restante de los cohetes {sum(fuel_reservation.values())} lts\n",
    "    '''\n",
    "\n",
    "    for tank_name, gallons in fuel_reservation.items():\n",
    "        main_report += f\"{tank_name} tank --> {gallons} gallons left\\n\"\n",
    "    return main_report\n",
    "\n",
    "print(mision_report('luna', 10, 14, 86, main = 125000, external = 560000))"
   ]
  }
 ],
 "metadata": {
  "interpreter": {
   "hash": "36cf16204b8548560b1c020c4e8fb5b57f0e4c58016f52f2d4be01e192833930"
  },
  "kernelspec": {
   "display_name": "Python 3.9.9 64-bit",
   "language": "python",
   "name": "python3"
  },
  "language_info": {
   "codemirror_mode": {
    "name": "ipython",
    "version": 3
   },
   "file_extension": ".py",
   "mimetype": "text/x-python",
   "name": "python",
   "nbconvert_exporter": "python",
   "pygments_lexer": "ipython3",
   "version": "3.9.9"
  },
  "orig_nbformat": 4
 },
 "nbformat": 4,
 "nbformat_minor": 2
}
